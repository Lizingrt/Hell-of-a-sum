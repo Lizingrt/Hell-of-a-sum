{
 "cells": [
  {
   "cell_type": "code",
   "execution_count": 2,
   "metadata": {},
   "outputs": [],
   "source": [
    "import numpy as np\n",
    "import pandas as pd"
   ]
  },
  {
   "cell_type": "code",
   "execution_count": 3,
   "metadata": {},
   "outputs": [],
   "source": [
    "num=pd.read_excel(\"digitos 50.xlsx\", header=None)\n",
    "arr=num.to_numpy()"
   ]
  },
  {
   "cell_type": "code",
   "execution_count": 151,
   "metadata": {},
   "outputs": [
    {
     "data": {
      "text/plain": [
       "50"
      ]
     },
     "execution_count": 151,
     "metadata": {},
     "output_type": "execute_result"
    }
   ],
   "source": [
    "len(arr[0,0])"
   ]
  },
  {
   "cell_type": "code",
   "execution_count": 1,
   "metadata": {},
   "outputs": [
    {
     "ename": "NameError",
     "evalue": "name 'arr' is not defined",
     "output_type": "error",
     "traceback": [
      "\u001b[1;31m---------------------------------------------------------------------------\u001b[0m",
      "\u001b[1;31mNameError\u001b[0m                                 Traceback (most recent call last)",
      "\u001b[1;32mc:\\Users\\lizeh\\OneDrive\\Documentos\\Nuwe\\reto_digit.ipynb Celda 4\u001b[0m in \u001b[0;36m<cell line: 1>\u001b[1;34m()\u001b[0m\n\u001b[1;32m----> <a href='vscode-notebook-cell:/c%3A/Users/lizeh/OneDrive/Documentos/Nuwe/reto_digit.ipynb#W6sZmlsZQ%3D%3D?line=0'>1</a>\u001b[0m arr\n",
      "\u001b[1;31mNameError\u001b[0m: name 'arr' is not defined"
     ]
    }
   ],
   "source": [
    "arr"
   ]
  },
  {
   "cell_type": "code",
   "execution_count": 152,
   "metadata": {},
   "outputs": [
    {
     "name": "stdout",
     "output_type": "stream",
     "text": [
      "5537376230390876637302048746832985971773659831892672\n"
     ]
    }
   ],
   "source": [
    "sum=0\n",
    "rf=''\n",
    "for i in range(49,-1,-1):\n",
    "    for e in range(100):\n",
    "        y=arr[e,0]\n",
    "        x=y[i]\n",
    "        x=int(x)\n",
    "        sum=sum+x\n",
    "    r=str(sum)\n",
    "    if i==0:\n",
    "        rf=r+rf\n",
    "    else:\n",
    "        rf=r[-1]+rf\n",
    "    sum=str(sum)\n",
    "    sum=sum[:-1]\n",
    "    if sum!='':\n",
    "        sum=int(sum)\n",
    "    else:\n",
    "        sum=0\n",
    "print (rf)"
   ]
  },
  {
   "cell_type": "code",
   "execution_count": 153,
   "metadata": {},
   "outputs": [
    {
     "data": {
      "text/plain": [
       "'5537376230'"
      ]
     },
     "execution_count": 153,
     "metadata": {},
     "output_type": "execute_result"
    }
   ],
   "source": [
    "rf[:10]"
   ]
  },
  {
   "cell_type": "code",
   "execution_count": 154,
   "metadata": {},
   "outputs": [
    {
     "data": {
      "text/plain": [
       "52"
      ]
     },
     "execution_count": 154,
     "metadata": {},
     "output_type": "execute_result"
    }
   ],
   "source": [
    "len(rf)"
   ]
  }
 ],
 "metadata": {
  "kernelspec": {
   "display_name": "Python 3.10.4 64-bit",
   "language": "python",
   "name": "python3"
  },
  "language_info": {
   "codemirror_mode": {
    "name": "ipython",
    "version": 3
   },
   "file_extension": ".py",
   "mimetype": "text/x-python",
   "name": "python",
   "nbconvert_exporter": "python",
   "pygments_lexer": "ipython3",
   "version": "3.10.4"
  },
  "orig_nbformat": 4,
  "vscode": {
   "interpreter": {
    "hash": "81aaf8df2b88af63a39bb0f215827c97b9b9d913e6631ec66ef501601bc77c58"
   }
  }
 },
 "nbformat": 4,
 "nbformat_minor": 2
}
